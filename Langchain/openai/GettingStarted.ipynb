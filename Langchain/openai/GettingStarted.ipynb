{
 "cells": [
  {
   "cell_type": "code",
   "execution_count": 3,
   "metadata": {},
   "outputs": [],
   "source": [
    "import os\n",
    "from dotenv import load_dotenv\n",
    "load_dotenv()\n",
    "\n",
    "os.environ['OPENAI_API_KEY']=os.getenv(\"OPENAI_API_KEY\")\n",
    "## Langsmith Tracking\n",
    "os.environ[\"LANGCHAIN_API_KEY\"]=os.getenv(\"LANGCHAIN_API_KEY\")\n",
    "os.environ[\"LANGCHAIN_TRACING_V2\"]=\"true\"\n",
    "os.environ[\"LANGCHAIN_PROJECT\"]=os.getenv(\"LANGCHAIN_PROJECT\")"
   ]
  },
  {
   "cell_type": "code",
   "execution_count": 4,
   "metadata": {},
   "outputs": [
    {
     "name": "stdout",
     "output_type": "stream",
     "text": [
      "client=<openai.resources.chat.completions.Completions object at 0x00000246B5B92AA0> async_client=<openai.resources.chat.completions.AsyncCompletions object at 0x00000246B5BC0BE0> root_client=<openai.OpenAI object at 0x00000246B2E327A0> root_async_client=<openai.AsyncOpenAI object at 0x00000246B5B92B00> model_name='gpt-4o' model_kwargs={} openai_api_key=SecretStr('**********')\n"
     ]
    }
   ],
   "source": [
    "from langchain_openai import ChatOpenAI\n",
    "llm=ChatOpenAI(model=\"gpt-4o\")\n",
    "print(llm)"
   ]
  },
  {
   "cell_type": "code",
   "execution_count": 6,
   "metadata": {},
   "outputs": [],
   "source": [
    "## Input and response from LLM\n",
    "result=llm.invoke(\"What is Generative AI?\")"
   ]
  },
  {
   "cell_type": "code",
   "execution_count": 7,
   "metadata": {},
   "outputs": [
    {
     "name": "stdout",
     "output_type": "stream",
     "text": [
      "content='Generative AI refers to a category of artificial intelligence systems designed to create new content, such as text, images, music, or even video, that is similar to what a human might produce. These systems use machine learning models, particularly deep learning techniques, to understand patterns and structures within existing data and then generate new data based on that understanding.\\n\\nSome key aspects of generative AI include:\\n\\n1. **Machine Learning Models**: Generative AI often relies on models such as Generative Adversarial Networks (GANs), Variational Autoencoders (VAEs), and Transformer-based models like GPT (Generative Pre-trained Transformer).\\n\\n2. **Content Creation**: These systems can create various types of content. For example, GPT models can generate human-like text, while GANs might be used to create realistic images or even synthetic video content.\\n\\n3. **Applications**: Generative AI is used in a wide range of applications, including creative industries (art, music, writing), personalized content generation, gaming, simulation, and even drug discovery.\\n\\n4. **Challenges**: Despite its potential, generative AI also presents challenges, such as ethical concerns related to deepfakes, the potential for generating misleading or biased information, and the need for massive computational resources for training sophisticated models.\\n\\nOverall, generative AI represents a powerful tool for innovation, offering new ways to automate and enhance creative processes across various domains.' additional_kwargs={'refusal': None} response_metadata={'token_usage': {'completion_tokens': 284, 'prompt_tokens': 13, 'total_tokens': 297, 'completion_tokens_details': {'audio_tokens': 0, 'reasoning_tokens': 0, 'text_tokens': 0}, 'prompt_tokens_details': {'audio_tokens': None, 'cached_tokens': 0}}, 'model_name': 'gpt-4o-2024-08-06', 'system_fingerprint': 'fp_e5e4913e83', 'finish_reason': 'stop', 'logprobs': None} id='run-b3567cb8-dfd3-4956-b57f-454492057efc-0' usage_metadata={'input_tokens': 13, 'output_tokens': 284, 'total_tokens': 297, 'input_token_details': {'cache_read': 0}, 'output_token_details': {'audio': 0, 'reasoning': 0}}\n"
     ]
    }
   ],
   "source": [
    "print(result)"
   ]
  },
  {
   "cell_type": "code",
   "execution_count": 8,
   "metadata": {},
   "outputs": [
    {
     "data": {
      "text/plain": [
       "ChatPromptTemplate(input_variables=['input'], input_types={}, partial_variables={}, messages=[SystemMessagePromptTemplate(prompt=PromptTemplate(input_variables=[], input_types={}, partial_variables={}, template='You are an expert AI Engineer. Provide me answers based on the questions'), additional_kwargs={}), HumanMessagePromptTemplate(prompt=PromptTemplate(input_variables=['input'], input_types={}, partial_variables={}, template='{input}'), additional_kwargs={})])"
      ]
     },
     "execution_count": 8,
     "metadata": {},
     "output_type": "execute_result"
    }
   ],
   "source": [
    "### Chatprompt Template\n",
    "from langchain_core.prompts import ChatPromptTemplate\n",
    "\n",
    "prompt=ChatPromptTemplate.from_messages(\n",
    "    [\n",
    "        (\"system\",\"You are an expert AI Engineer. Provide me answers based on the questions\"),\n",
    "        (\"user\",\"{input}\")\n",
    "    ]\n",
    "\n",
    ")\n",
    "prompt"
   ]
  },
  {
   "cell_type": "code",
   "execution_count": 9,
   "metadata": {},
   "outputs": [
    {
     "name": "stdout",
     "output_type": "stream",
     "text": [
      "content='Langsmith is a toolset designed to enhance the capabilities of developers working with large language models (LLMs). It provides a suite of features aimed at improving the overall workflow and performance of applications that use LLMs. Key functionalities include the ability to evaluate and test language models more effectively, refine prompts, monitor performance, and manage LLM-related operations seamlessly.\\n\\nLangsmith is particularly useful for those looking to optimize their use of LLMs in various applications, whether for developing conversational agents, generating content, or other tasks that leverage the power of language models. By offering these capabilities, Langsmith helps developers ensure their applications are both efficient and effective in achieving their intended outcomes.' additional_kwargs={'refusal': None} response_metadata={'token_usage': {'completion_tokens': 135, 'prompt_tokens': 33, 'total_tokens': 168, 'completion_tokens_details': {'audio_tokens': 0, 'reasoning_tokens': 0, 'text_tokens': 0}, 'prompt_tokens_details': {'audio_tokens': None, 'cached_tokens': 0}}, 'model_name': 'gpt-4o-2024-08-06', 'system_fingerprint': 'fp_6b68a8204b', 'finish_reason': 'stop', 'logprobs': None} id='run-3f13a710-4f19-44cc-a997-d08dfd188d32-0' usage_metadata={'input_tokens': 33, 'output_tokens': 135, 'total_tokens': 168, 'input_token_details': {'cache_read': 0}, 'output_token_details': {'audio': 0, 'reasoning': 0}}\n"
     ]
    }
   ],
   "source": [
    "## chain \n",
    "chain=prompt|llm\n",
    "\n",
    "response=chain.invoke({\"input\":\"Can you tell me about Langsmith?\"})\n",
    "print(response)"
   ]
  },
  {
   "cell_type": "code",
   "execution_count": 10,
   "metadata": {},
   "outputs": [
    {
     "data": {
      "text/plain": [
       "langchain_core.messages.ai.AIMessage"
      ]
     },
     "execution_count": 10,
     "metadata": {},
     "output_type": "execute_result"
    }
   ],
   "source": [
    "type(response)"
   ]
  },
  {
   "cell_type": "code",
   "execution_count": 12,
   "metadata": {},
   "outputs": [
    {
     "name": "stdout",
     "output_type": "stream",
     "text": [
      "In Hindu mythology, Brahma is one of the principal deities and is often referred to as the creator god. He is part of the Trimurti, which also includes Vishnu, the preserver, and Shiva, the destroyer. Brahma is traditionally depicted with four faces, each looking in one of the four cardinal directions, symbolizing his all-seeing nature and his role in the creation of the universe. He is often shown with four arms and is associated with the Vedas, the ancient sacred texts of Hinduism. Despite his significant role as a creator, Brahma is less prominently worshipped in contemporary Hindu practice compared to Vishnu and Shiva.\n"
     ]
    }
   ],
   "source": [
    "## stroutput Parser, only required message gets displayed\n",
    "\n",
    "from langchain_core.output_parsers import StrOutputParser\n",
    "output_parser=StrOutputParser()\n",
    "chain=prompt|llm|output_parser\n",
    "\n",
    "response=chain.invoke({\"input\":\"Who is Bramha in Hindu Mythology?\"})\n",
    "print(response)"
   ]
  },
  {
   "cell_type": "code",
   "execution_count": null,
   "metadata": {},
   "outputs": [],
   "source": []
  }
 ],
 "metadata": {
  "kernelspec": {
   "display_name": "Python 3",
   "language": "python",
   "name": "python3"
  },
  "language_info": {
   "codemirror_mode": {
    "name": "ipython",
    "version": 3
   },
   "file_extension": ".py",
   "mimetype": "text/x-python",
   "name": "python",
   "nbconvert_exporter": "python",
   "pygments_lexer": "ipython3",
   "version": "3.10.0"
  }
 },
 "nbformat": 4,
 "nbformat_minor": 2
}
